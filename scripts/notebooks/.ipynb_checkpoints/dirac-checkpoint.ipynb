{
 "cells": [
  {
   "cell_type": "markdown",
   "metadata": {},
   "source": [
    "<h2> General Definitions </h2>"
   ]
  },
  {
   "cell_type": "code",
   "execution_count": 1,
   "metadata": {},
   "outputs": [],
   "source": [
    "import sympy as sp\n",
    "import numpy as np\n",
    "\n",
    "from sympy import simplify as slf\n",
    "\n",
    "kx = sp.Symbol('kx', real=True)\n",
    "ky = sp.Symbol('ky', real=True)\n",
    "m = sp.Symbol('m', real=True)\n",
    "i = sp.I\n",
    "\n",
    "k = sp.sqrt(kx**2 + ky**2)\n",
    "\n",
    "so = sp.Matrix([[1, 0], [0, 1]])\n",
    "sx = sp.Matrix([[0, 1], [1, 0]])\n",
    "sy = sp.Matrix([[0, -i], [i, 0]])\n",
    "sz = sp.Matrix([[1, 0], [0, -1]])"
   ]
  },
  {
   "cell_type": "markdown",
   "metadata": {},
   "source": [
    "<h2> Hamiltonian and Energies </h2>"
   ]
  },
  {
   "cell_type": "code",
   "execution_count": 2,
   "metadata": {},
   "outputs": [],
   "source": [
    "H = kx*sx + ky*sy + m*sz\n",
    "E = sp.sqrt(k**2 + m**2)"
   ]
  },
  {
   "cell_type": "markdown",
   "metadata": {},
   "source": [
    "<h3> $\\uparrow$-Gauge </h3>\n",
    "$$\n",
    "| v_\\pm \\rangle = | \\uparrow \\rangle + \\frac{k_x + i k_y}{m \\pm \\sqrt{k^2 + m^2}} | \\downarrow \\rangle\n",
    "$$"
   ]
  },
  {
   "cell_type": "code",
   "execution_count": 3,
   "metadata": {},
   "outputs": [],
   "source": [
    "# Conduction (+ p)\n",
    "vup_p = sp.Matrix([1, (kx + i*ky)/(m + E)])\n",
    "vup_pc = sp.Matrix([1, (kx - i*ky)/(m + E)])\n",
    "# Valence (- m)\n",
    "vup_m = sp.Matrix([1, (kx + i*ky)/(m - E)])\n",
    "vup_mc = sp.Matrix([1, (kx - i*ky)/(m - E)])\n",
    "# Normalisation\n",
    "nup_p = 1/sp.sqrt(vup_pc.dot(vup_p))\n",
    "nup_m = 1/sp.sqrt(vup_mc.dot(vup_m))\n",
    "\n",
    "# Normalised waves\n",
    "uup_p = nup_p * vup_p\n",
    "uup_pc = nup_p * vup_pc\n",
    "uup_m = nup_m * vup_m\n",
    "uup_mc = nup_m * vup_mc"
   ]
  },
  {
   "cell_type": "markdown",
   "metadata": {},
   "source": [
    "<h3> $\\downarrow$-Gauge </h3>\n",
    "$$\n",
    "| v_\\pm \\rangle = \\frac{-k_x + i k_y}{m \\mp \\sqrt{k^2 + m^2}} | \\uparrow \\rangle +  | \\downarrow \\rangle\n",
    "$$"
   ]
  },
  {
   "cell_type": "code",
   "execution_count": 4,
   "metadata": {},
   "outputs": [],
   "source": [
    "# Conduction (+ p)\n",
    "vdo_p = sp.Matrix([(-kx + i*ky)/(m - E), 1])\n",
    "vdo_pc = sp.Matrix([(-kx - i*ky)/(m - E), 1])\n",
    "# Valence (- m)\n",
    "vdo_m = sp.Matrix([(-kx + i*ky)/(m + E), 1])\n",
    "vdo_mc = sp.Matrix([(-kx - i*ky)/(m + E), 1])\n",
    "# Norm\n",
    "ndo_p = 1/sp.sqrt(vdo_pc.dot(vdo_p))\n",
    "ndo_m = 1/sp.sqrt(vdo_mc.dot(vdo_m))\n",
    "\n",
    "# Normalised waves\n",
    "udo_p = ndo_p * vdo_p\n",
    "udo_pc = ndo_p * vdo_pc\n",
    "udo_m = ndo_m * vdo_m\n",
    "udo_mc = ndo_m * vdo_mc"
   ]
  },
  {
   "cell_type": "markdown",
   "metadata": {},
   "source": [
    "<h2> Berry connection </h2>"
   ]
  },
  {
   "cell_type": "code",
   "execution_count": 5,
   "metadata": {},
   "outputs": [],
   "source": [
    "# First derivatives\n",
    "dx_uup_p = slf(sp.diff(uup_p, kx))\n",
    "dy_uup_p = slf(sp.diff(uup_p, ky))\n",
    "\n",
    "dx_uup_m = slf(sp.diff(uup_m, kx))\n",
    "dy_uup_m = slf(sp.diff(uup_m, ky))\n",
    "\n",
    "dx_udo_p = slf(sp.diff(udo_p, kx))\n",
    "dy_udo_p = slf(sp.diff(udo_p, ky))\n",
    "\n",
    "dx_udo_m = slf(sp.diff(udo_m, kx))\n",
    "dy_udo_m = slf(sp.diff(udo_m ,ky))"
   ]
  },
  {
   "cell_type": "code",
   "execution_count": 6,
   "metadata": {},
   "outputs": [],
   "source": [
    "# Up gauge Conduction (+ p) and Valence (- m) band connections\n",
    "Aup_pp = i * sp.Matrix([slf(uup_p.dot(dx_uup_p)), slf(uup_p.dot(dy_uup_p))])\n",
    "Aup_mm = i * sp.Matrix([uup_m.dot(dx_uup_m), uup_m.dot(dy_uup_m)])\n",
    "\n",
    "# Down gauge Conduction (+ p) and Valence (- m) band connections\n",
    "Ado_pp = i * sp.Matrix([udo_p.dot(dx_udo_p), udo_p.dot(dy_udo_p)])\n",
    "Ado_mm = i * sp.Matrix([udo_m.dot(dx_udo_m), udo_m.dot(dy_udo_m)])"
   ]
  },
  {
   "cell_type": "code",
   "execution_count": null,
   "metadata": {},
   "outputs": [],
   "source": []
  }
 ],
 "metadata": {
  "kernelspec": {
   "display_name": "Python 3",
   "language": "python",
   "name": "python3"
  },
  "language_info": {
   "codemirror_mode": {
    "name": "ipython",
    "version": 3
   },
   "file_extension": ".py",
   "mimetype": "text/x-python",
   "name": "python",
   "nbconvert_exporter": "python",
   "pygments_lexer": "ipython3",
   "version": "3.7.6"
  }
 },
 "nbformat": 4,
 "nbformat_minor": 4
}
